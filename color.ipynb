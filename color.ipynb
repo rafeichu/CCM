{
 "cells": [
  {
   "cell_type": "markdown",
   "metadata": {},
   "source": [
    "El objetivo de esta notebook es encontrar los colores más representativos de los commodities en cuestión. \n",
    "Este trabajo está destinado a ser utilizado en Mobile, ya que los colores encontrados serán utilizados en el patrón de corrección.\n",
    "\n",
    "Lo ideal es utilizar un patrón diferente para cada commodity, pero dado que al momento de la fecha solo dos commodities son utilizadas por Mobile, se realizará un análisis en conjunto.\n",
    "\n",
    "Antes de comenzar con dicho análisis se deben obtener crops de cada tipo (label) de cada commodity."
   ]
  },
  {
   "cell_type": "code",
   "execution_count": 1,
   "metadata": {},
   "outputs": [],
   "source": [
    "import cv2 as cv\n",
    "import numpy as np\n",
    "from PIL import Image, ImageChops, ImageFilter\n",
    "import json\n",
    "import os\n",
    "from matplotlib.pyplot import imshow\n",
    "\n",
    "from zoomModels.utils import mcoco_to_zcoco\n",
    "from zoomModels.models import Zoomcoco\n",
    "from pycocotools.mask import frPyObjects, decode\n",
    "\n",
    "from pattern_generator import PatternGenerator"
   ]
  },
  {
   "cell_type": "markdown",
   "metadata": {},
   "source": [
    "Para obtener los crops individuales sin fondo, se deben conseguir los scans y luego las máscaras. Éstas últimas son relativas, es decir, funcionan para cada crop individual. La forma de conocer en qué ubicación se debe aplicar es mediante bbox (Bounding Box). Para ello, se deberán encontrar los scans, las máscaras y las bbox.\n",
    "\n",
    "Las funciones utilizadas son las siguientes:\n",
    "\n",
    "- build_rle_dict() es define un diccionario que precisa pycocotools.\n",
    "\n",
    "- get_masks() obtiene las máscaras a partir del zoomcoco obtenido del json. En s3 el json se encuentra bajo el nombre de 'filename_json'.\n",
    "\n",
    "- generate_crops() genera los crops individuales a partir de los scans y las máscaras. A cada máscara se le aplica erosión para eliminar parte de los bordes azules, resultantes del crop. Aunque se eliminan los bordes de los crops en el proceso, los mismos no contienen información representativa al no ser correctamente iluminados por el escáner."
   ]
  },
  {
   "cell_type": "code",
   "execution_count": 3,
   "metadata": {},
   "outputs": [],
   "source": [
    "def build_rle_dict(rle_object):\n",
    "    # some ugly piece of shit function\n",
    "    return {'counts': rle_object.counts, 'size': rle_object.size}\n",
    "\n",
    "\n",
    "def get_masks(zoomcoco):\n",
    "    \n",
    "    masks = []\n",
    "    bbox = []\n",
    "    \n",
    "    for grain in zoomcoco.grains:\n",
    "        for crop in grain.crops_list:\n",
    "            \n",
    "            # pycocotools needs a dict, not an object...\n",
    "            rle = build_rle_dict(crop.mask_rle)\n",
    "            rle = frPyObjects(rle, rle['size'][0], rle['size'][1])\n",
    "            mask = Image.fromarray(np.uint8(255 * decode(rle)))\n",
    "            masks.append(mask)\n",
    "            bbox.append(crop.bbox)\n",
    "\n",
    "    return masks, bbox\n",
    "\n",
    "\n",
    "def generate_crops(scan, zoomcoco):\n",
    "    \n",
    "    masks, bbox = get_masks(zoomcoco)\n",
    "\n",
    "    processed_crops = []   \n",
    "    \n",
    "    for msk, bb in zip(masks, bbox):\n",
    "        crop = scan.crop(box=(bb[0], bb[1], bb[2] + bb[0], bb[3] + bb[1]))\n",
    "        msk = msk.filter(ImageFilter.MinFilter(3))\n",
    "        msk = msk.filter(ImageFilter.MinFilter(3))\n",
    "        processed_crop = ImageChops.multiply(crop.convert('RGB'), msk.convert('RGB'))\n",
    "        processed_crops.append(np.array(processed_crop))\n",
    "        \n",
    "    return processed_crops"
   ]
  },
  {
   "cell_type": "markdown",
   "metadata": {},
   "source": [
    "Primero se debe encontrar el path en el que se encuentran los datos (scans, jsons). Estos fueron descargados de s3 mediante un script localizado en el repositorio 'inutils'.\n",
    "\n",
    "Se recorren los archivos y directorios, y se filtran los archivos de imagen y sus respectivos json.\n",
    "Los json contienen una estructura llamada minicoco. La misma está desactualizada. Ahora se utiliza zoomcoco. Se utiliza mcoco_to_zcoco() para hacer la conversión de una a la otra."
   ]
  },
  {
   "cell_type": "code",
   "execution_count": 4,
   "metadata": {},
   "outputs": [],
   "source": [
    "path = os.path.abspath(os.getcwd()) + '/job'\n",
    "\n",
    "crops = []\n",
    "\n",
    "for root, dirs, files in os.walk(path):\n",
    "    \n",
    "    jsons = []\n",
    "    scans = []\n",
    "\n",
    "    for file in files:\n",
    "        \n",
    "        filename, file_extension = os.path.splitext(file)\n",
    "        path_to_file = os.path.join(root, file)\n",
    "        \n",
    "        if file_extension == '.json':\n",
    "            jsons.append(path_to_file)\n",
    "            \n",
    "        if file_extension == '.png':\n",
    "            scans.append(path_to_file)\n",
    "            \n",
    "    for path_to_scan, path_to_json in zip(scans, jsons):\n",
    "\n",
    "        # Read json file\n",
    "        with open(path_to_json) as json_file:\n",
    "            minicoco = json.load(json_file)\n",
    "            zoomcoco = mcoco_to_zcoco(minicoco)\n",
    "            \n",
    "        # Read image file\n",
    "        image = Image.open(path_to_scan)\n",
    "        \n",
    "        # Process\n",
    "        crops.append(generate_crops(image, zoomcoco))"
   ]
  },
  {
   "cell_type": "markdown",
   "metadata": {},
   "source": [
    "Los crops ahora pueden ser vistos fácilmente. El primer subíndice es para desplazarse por scans, mientras que el segundo es el crop.\n",
    "\n",
    "Ejemplo:"
   ]
  },
  {
   "cell_type": "code",
   "execution_count": 5,
   "metadata": {},
   "outputs": [
    {
     "data": {
      "text/plain": [
       "<matplotlib.image.AxesImage at 0x7f9efd5fa9d0>"
      ]
     },
     "execution_count": 5,
     "metadata": {},
     "output_type": "execute_result"
    },
    {
     "data": {
      "image/png": "[encoded data removed]",
      "text/plain": [
       "<Figure size 432x288 with 1 Axes>"
      ]
     },
     "metadata": {
      "needs_background": "light"
     },
     "output_type": "display_data"
    }
   ],
   "source": [
    "%matplotlib inline\n",
    "imshow(crops[1][2])"
   ]
  },
  {
   "cell_type": "markdown",
   "metadata": {},
   "source": [
    "Ahora se precisa de concatenar todos los datos. Más específicamente, concatenar cada píxel, es decir, cada color. Para ello se deben eliminar las estructuras subyacentes dentro de crops. Finalmente se debe obtener una estructura de tamaño (shape) Mx3, donde M resulta la cantidad de pixeles de interés y 3 la cantidad de canales (R,G,B)."
   ]
  },
  {
   "cell_type": "code",
   "execution_count": 6,
   "metadata": {},
   "outputs": [
    {
     "name": "stdout",
     "output_type": "stream",
     "text": [
      "(195560560, 3)\n"
     ]
    }
   ],
   "source": [
    "data = []\n",
    "\n",
    "for scan in crops:\n",
    "    for grain in scan:\n",
    "        colors = grain.reshape(grain.shape[0]*grain.shape[1], grain.shape[2])\n",
    "        data.append(colors)\n",
    "\n",
    "data = np.vstack(data)\n",
    "\n",
    "print(data.shape)"
   ]
  },
  {
   "cell_type": "markdown",
   "metadata": {},
   "source": [
    "Como se pudo observar anteriormente, gran parte de la imagen queda en negro. Estos pixeles resultan irrelevantes para el análisis en cuestión. Adicionalmente, el color negro se encontrará en el patrón de todas formas. Por lo tanto, no serán considerados. Numpy no proveé funciones para filtrar arreglos de arreglos con facilidad, y la conversión a 'list' consume muchos recursos, provocando el detenimiento del kernel. Se resolvió el problema de la siguiente forma:"
   ]
  },
  {
   "cell_type": "code",
   "execution_count": 19,
   "metadata": {},
   "outputs": [
    {
     "name": "stdout",
     "output_type": "stream",
     "text": [
      "(128176005, 3)\n"
     ]
    }
   ],
   "source": [
    "filtered_data = data[data[:,0] + data[:,1] + data[:,2] != 0]\n",
    "print(filtered_data.shape)"
   ]
  },
  {
   "cell_type": "markdown",
   "metadata": {},
   "source": [
    "Finalmente, se estiman los 48 centros de color (48 son el máximo de colores utilizados en el patrón) mediante k-means."
   ]
  },
  {
   "cell_type": "code",
   "execution_count": 21,
   "metadata": {},
   "outputs": [],
   "source": [
    "# define criteria, number of clusters(K) and apply kmeans()\n",
    "criteria = (cv.TERM_CRITERIA_EPS + cv.TERM_CRITERIA_MAX_ITER, 10, 1.0)\n",
    "K = 48\n",
    "ret, label, center = cv.kmeans(filtered_data.astype(np.float32), K, None, criteria, 10, cv.KMEANS_RANDOM_CENTERS)\n",
    "\n",
    "center = np.uint8(center)"
   ]
  },
  {
   "cell_type": "markdown",
   "metadata": {},
   "source": [
    "A continuación se pueden observar los resultados:"
   ]
  },
  {
   "cell_type": "code",
   "execution_count": 23,
   "metadata": {},
   "outputs": [
    {
     "name": "stdout",
     "output_type": "stream",
     "text": [
      "[[181 173 157]\n",
      " [ 73 123 145]\n",
      " [188 167 137]\n",
      " [ 41  40  42]\n",
      " [173 161 142]\n",
      " [164 155 141]\n",
      " [154 125  76]\n",
      " [168 105 146]\n",
      " [106  79  66]\n",
      " [190 156 113]\n",
      " [191 142  72]\n",
      " [122  88 118]\n",
      " [143 142 135]\n",
      " [127 105  69]\n",
      " [ 78 231 143]\n",
      " [171 182 178]\n",
      " [135  90 145]\n",
      " [179 148 115]\n",
      " [ 66  34 145]\n",
      " [167 122 147]\n",
      " [154 152 144]\n",
      " [185 191 189]\n",
      " [143  99 136]\n",
      " [190 190 181]\n",
      " [ 27  28  31]\n",
      " [126 103  92]\n",
      " [165 129 102]\n",
      " [157 141 118]\n",
      " [152 109 148]\n",
      " [215 178 122]\n",
      " [133 115  89]\n",
      " [222 198 162]\n",
      " [163 230  40]\n",
      " [154 111 125]\n",
      " [190 188 164]\n",
      " [128 129 114]\n",
      " [179 133  97]\n",
      " [101 114 127]\n",
      " [ 69  60  56]\n",
      " [ 87 127 174]\n",
      " [ 68 194 120]\n",
      " [126 119 151]\n",
      " [142 123  94]\n",
      " [ 84  96  92]\n",
      " [116  97 137]\n",
      " [104 117 102]\n",
      " [ 72 100 137]\n",
      " [144 127  98]]\n"
     ]
    }
   ],
   "source": [
    "print(center)"
   ]
  },
  {
   "cell_type": "markdown",
   "metadata": {},
   "source": [
    "Se guardan los datos, para evitar correr el programa nuevamente."
   ]
  },
  {
   "cell_type": "code",
   "execution_count": 58,
   "metadata": {},
   "outputs": [
    {
     "ename": "NameError",
     "evalue": "name 'center' is not defined",
     "output_type": "error",
     "traceback": [
      "\u001b[0;31m---------------------------------------------------------------------------\u001b[0m",
      "\u001b[0;31mNameError\u001b[0m                                 Traceback (most recent call last)",
      "\u001b[0;32m<ipython-input-58-967cac526019>\u001b[0m in \u001b[0;36m<module>\u001b[0;34m\u001b[0m\n\u001b[0;32m----> 1\u001b[0;31m \u001b[0mnp\u001b[0m\u001b[0;34m.\u001b[0m\u001b[0msavetxt\u001b[0m\u001b[0;34m(\u001b[0m\u001b[0;34m\"V3a/center.csv\"\u001b[0m\u001b[0;34m,\u001b[0m \u001b[0mcenter\u001b[0m\u001b[0;34m,\u001b[0m \u001b[0mfmt\u001b[0m\u001b[0;34m=\u001b[0m\u001b[0;34m'%d'\u001b[0m\u001b[0;34m,\u001b[0m \u001b[0mdelimiter\u001b[0m\u001b[0;34m=\u001b[0m\u001b[0;34m','\u001b[0m\u001b[0;34m,\u001b[0m \u001b[0mnewline\u001b[0m\u001b[0;34m=\u001b[0m\u001b[0;34m'\\n'\u001b[0m\u001b[0;34m,\u001b[0m \u001b[0mheader\u001b[0m\u001b[0;34m=\u001b[0m\u001b[0;34m''\u001b[0m\u001b[0;34m,\u001b[0m \u001b[0mfooter\u001b[0m\u001b[0;34m=\u001b[0m\u001b[0;34m''\u001b[0m\u001b[0;34m,\u001b[0m \u001b[0mcomments\u001b[0m\u001b[0;34m=\u001b[0m\u001b[0;34m'# '\u001b[0m\u001b[0;34m,\u001b[0m \u001b[0mencoding\u001b[0m\u001b[0;34m=\u001b[0m\u001b[0;32mNone\u001b[0m\u001b[0;34m)\u001b[0m\u001b[0;34m\u001b[0m\u001b[0;34m\u001b[0m\u001b[0m\n\u001b[0m",
      "\u001b[0;31mNameError\u001b[0m: name 'center' is not defined"
     ]
    }
   ],
   "source": [
    "np.savetxt(\"V3a/center.csv\", center, fmt='%d', delimiter=',', newline='\\n', header='', footer='', comments='# ', encoding=None)\n"
   ]
  },
  {
   "cell_type": "markdown",
   "metadata": {},
   "source": [
    "Ahora se lee el archivo y se muestra el patrón de color obtenido:"
   ]
  },
  {
   "cell_type": "code",
   "execution_count": 2,
   "metadata": {},
   "outputs": [],
   "source": [
    "centers = np.loadtxt(\"V3a/center.csv\", delimiter =',')"
   ]
  },
  {
   "cell_type": "code",
   "execution_count": 4,
   "metadata": {},
   "outputs": [
    {
     "data": {
      "text/plain": [
       "<matplotlib.image.AxesImage at 0x7fc1c7d14910>"
      ]
     },
     "execution_count": 4,
     "metadata": {},
     "output_type": "execute_result"
    },
    {
     "data": {
      "image/png": "[encoded data removed]",
      "text/plain": [
       "<Figure size 432x288 with 1 Axes>"
      ]
     },
     "metadata": {
      "needs_background": "light"
     },
     "output_type": "display_data"
    }
   ],
   "source": [
    "generator = PatternGenerator(centers, None, rows=8, cols=6, color_size=50)\n",
    "pattern = generator.run('get')\n",
    "imshow(pattern)"
   ]
  },
  {
   "cell_type": "code",
   "execution_count": null,
   "metadata": {},
   "outputs": [],
   "source": []
  }
 ],
 "metadata": {
  "kernelspec": {
   "display_name": "Python 3",
   "language": "python",
   "name": "python3"
  },
  "language_info": {
   "codemirror_mode": {
    "name": "ipython",
    "version": 3
   },
   "file_extension": ".py",
   "mimetype": "text/x-python",
   "name": "python",
   "nbconvert_exporter": "python",
   "pygments_lexer": "ipython3",
   "version": "3.7.4"
  }
 },
 "nbformat": 4,
 "nbformat_minor": 2
}
